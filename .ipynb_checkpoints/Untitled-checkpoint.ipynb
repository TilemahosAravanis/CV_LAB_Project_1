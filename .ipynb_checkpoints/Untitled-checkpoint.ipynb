{
 "cells": [
  {
   "cell_type": "markdown",
   "id": "21d27259",
   "metadata": {},
   "source": [
    "**$1^o$ ΕΡΓΑΣΤΗΡΙΑΚΟ PROJECT ΣΤΗΝ ΌΡΑΣΗ ΥΠΟΛΟΓΙΣΤΩΝ**\n",
    "\n",
    "`Αραβανής Τηλέμαχος 03119024`\n",
    "\n",
    "`Θεοδωρόπουλος Ηλίας 03119800` \n",
    "\n",
    "---"
   ]
  },
  {
   "cell_type": "markdown",
   "id": "4f6396f6",
   "metadata": {},
   "source": [
    "* Μέρος 1"
   ]
  },
  {
   "cell_type": "code",
   "execution_count": 5,
   "id": "99e5bb9b",
   "metadata": {},
   "outputs": [],
   "source": [
    "# 1.1.1 Load image I0 = “edgetest 23.png”"
   ]
  },
  {
   "cell_type": "code",
   "execution_count": 6,
   "id": "db6b3f44",
   "metadata": {},
   "outputs": [],
   "source": [
    "# 1.1.2 Create noisy image with appropriate PSNR"
   ]
  },
  {
   "cell_type": "code",
   "execution_count": 7,
   "id": "c20f8e59",
   "metadata": {},
   "outputs": [],
   "source": [
    "# 1.2 Implementation of EdgeDetect"
   ]
  },
  {
   "cell_type": "code",
   "execution_count": 8,
   "id": "331548d0",
   "metadata": {},
   "outputs": [],
   "source": [
    "# 1.3 Evaluation of the edge detection results in the noisy image"
   ]
  },
  {
   "cell_type": "code",
   "execution_count": 9,
   "id": "4deb71fa",
   "metadata": {},
   "outputs": [],
   "source": [
    "# 1.4 Edge detection in the real image “kyoto edges.jpg”"
   ]
  },
  {
   "cell_type": "markdown",
   "id": "96c28afa",
   "metadata": {},
   "source": [
    "---"
   ]
  },
  {
   "cell_type": "code",
   "execution_count": null,
   "id": "c452d0fd",
   "metadata": {},
   "outputs": [],
   "source": []
  }
 ],
 "metadata": {
  "kernelspec": {
   "display_name": "Python [conda env:cv_lab1_env] *",
   "language": "python",
   "name": "conda-env-cv_lab1_env-py"
  },
  "language_info": {
   "codemirror_mode": {
    "name": "ipython",
    "version": 3
   },
   "file_extension": ".py",
   "mimetype": "text/x-python",
   "name": "python",
   "nbconvert_exporter": "python",
   "pygments_lexer": "ipython3",
   "version": "3.7.16"
  }
 },
 "nbformat": 4,
 "nbformat_minor": 5
}
